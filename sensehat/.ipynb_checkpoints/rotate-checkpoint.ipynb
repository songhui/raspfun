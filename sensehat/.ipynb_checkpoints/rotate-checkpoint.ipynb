{
 "cells": [
  {
   "cell_type": "code",
   "execution_count": 1,
   "metadata": {},
   "outputs": [],
   "source": [
    "from sense_hat import SenseHat\n",
    "\n",
    "\n",
    "sense = SenseHat()"
   ]
  },
  {
   "cell_type": "code",
   "execution_count": 2,
   "metadata": {},
   "outputs": [],
   "source": [
    "def normalize(g):\n",
    "    color = (1 + g) * 128;\n",
    "    if color < 0:\n",
    "        color = 0;\n",
    "    if color > 255:\n",
    "        color = 255;\n",
    "    return int(color)"
   ]
  },
  {
   "cell_type": "code",
   "execution_count": null,
   "metadata": {},
   "outputs": [],
   "source": [
    "while True:\n",
    "    acceleration = sense.get_accelerometer_raw()\n",
    "    x = acceleration['x']\n",
    "    y = acceleration['y']\n",
    "    z = acceleration['z']\n",
    "  \n",
    "    color = [normalize(g) for g in [x, y, z]]\n",
    "    sense.clear((color))"
   ]
  },
  {
   "cell_type": "code",
   "execution_count": null,
   "metadata": {},
   "outputs": [],
   "source": []
  }
 ],
 "metadata": {
  "kernelspec": {
   "display_name": "Python 3",
   "language": "python",
   "name": "python3"
  },
  "language_info": {
   "codemirror_mode": {
    "name": "ipython",
    "version": 3
   },
   "file_extension": ".py",
   "mimetype": "text/x-python",
   "name": "python",
   "nbconvert_exporter": "python",
   "pygments_lexer": "ipython3",
   "version": "3.7.3"
  }
 },
 "nbformat": 4,
 "nbformat_minor": 4
}
